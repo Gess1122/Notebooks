{
 "cells": [
  {
   "cell_type": "code",
   "execution_count": 1,
   "id": "ac857a27-4fa0-47ce-9cd0-1e7355a88aef",
   "metadata": {},
   "outputs": [],
   "source": [
    "from pyspark.sql import SparkSession\n",
    "from pyspark.sql.functions import *\n",
    "from pyspark.sql.types import *"
   ]
  },
  {
   "cell_type": "code",
   "execution_count": 3,
   "id": "1e20e4f2-f15e-4413-b8ea-243b1f37e245",
   "metadata": {},
   "outputs": [],
   "source": [
    "# creer une session\n",
    "spark = SparkSession.builder.appName(\"LIG3\").getOrCreate()"
   ]
  },
  {
   "cell_type": "code",
   "execution_count": 4,
   "id": "ade4d235-8617-4e9c-b1ff-c36884e3e813",
   "metadata": {},
   "outputs": [
    {
     "name": "stdout",
     "output_type": "stream",
     "text": [
      "+---+------+---+-------+-----------+-------------+\n",
      "| id|   nom|age|salaire|departement|date_embauche|\n",
      "+---+------+---+-------+-----------+-------------+\n",
      "|  1|   Ali| 25|   3000|         IT|   2020-06-15|\n",
      "|  2|Sophie| 30|   4500|         RH|   2018-04-10|\n",
      "|  3|  Marc| 28|   4000|    Finance|   2019-08-21|\n",
      "|  4|  Nina| 35|   5500|         IT|   2016-12-05|\n",
      "|  5|  Jean| 40|   6000|         RH|   2012-09-30|\n",
      "|  6|  Lisa| 29|   NULL|    Finance|   2021-07-11|\n",
      "|  7|   Tom| 33|   4700|         IT|   2017-03-17|\n",
      "|  8|  Emma| 26|   3500|    Finance|   2022-01-20|\n",
      "|  9|  Paul| 31|   5200|         RH|   2015-05-28|\n",
      "| 10| Clara| 27|   3800|         IT|   2023-02-14|\n",
      "+---+------+---+-------+-----------+-------------+\n",
      "\n"
     ]
    }
   ],
   "source": [
    "# chargeons le fichier\n",
    "df = spark.read.format(\"csv\").options(header='True').load(\"employees.csv\")\n",
    "df.show()"
   ]
  },
  {
   "cell_type": "code",
   "execution_count": 134,
   "id": "6e33d085-4c4e-4511-b37c-044e50c9bea8",
   "metadata": {},
   "outputs": [
    {
     "name": "stdout",
     "output_type": "stream",
     "text": [
      "+---+------+---+-------+-----------+-------------+\n",
      "| id|   nom|age|salaire|departement|date_embauche|\n",
      "+---+------+---+-------+-----------+-------------+\n",
      "|  1|   Ali| 25|   3000|         IT|   2020-06-15|\n",
      "|  2|Sophie| 30|   4500|         RH|   2018-04-10|\n",
      "|  3|  Marc| 28|   4000|    Finance|   2019-08-21|\n",
      "|  4|  Nina| 35|   5500|         IT|   2016-12-05|\n",
      "|  5|  Jean| 40|   6000|         RH|   2012-09-30|\n",
      "|  6|  Lisa| 29|   NULL|    Finance|   2021-07-11|\n",
      "|  7|   Tom| 33|   4700|         IT|   2017-03-17|\n",
      "|  8|  Emma| 26|   3500|    Finance|   2022-01-20|\n",
      "|  9|  Paul| 31|   5200|         RH|   2015-05-28|\n",
      "| 10| Clara| 27|   3800|         IT|   2023-02-14|\n",
      "+---+------+---+-------+-----------+-------------+\n",
      "\n"
     ]
    }
   ],
   "source": [
    "df1 = spark.read.format(\"csv\").options(header='True').load(\"manager.csv\")\n",
    "df.show()"
   ]
  },
  {
   "cell_type": "code",
   "execution_count": 135,
   "id": "d0522ea1-54f9-4867-8d67-5fb2186cbaad",
   "metadata": {},
   "outputs": [],
   "source": [
    "# creons une shema\n",
    "shema = StructType([\n",
    "    StructField(\"id\", IntegerType(),False),\n",
    "    StructField(\"nom\", StringType(),False),\n",
    "     StructField(\"age\", IntegerType(), False),\n",
    "    StructField(\"salaire\", IntegerType(), False),\n",
    "    StructField(\"departement\", StringType(),False),\n",
    "    StructField(\"date_embauche\", DateType(),False),\n",
    "])"
   ]
  },
  {
   "cell_type": "code",
   "execution_count": 136,
   "id": "f085f31b-2dba-4934-8450-60fcfe447690",
   "metadata": {},
   "outputs": [
    {
     "name": "stdout",
     "output_type": "stream",
     "text": [
      "+---+------+---+-------+-----------+-------------+\n",
      "| id|   nom|age|salaire|departement|date_embauche|\n",
      "+---+------+---+-------+-----------+-------------+\n",
      "|  1|   Ali| 25|   3000|         IT|   2020-06-15|\n",
      "|  2|Sophie| 30|   4500|         RH|   2018-04-10|\n",
      "|  3|  Marc| 28|   4000|    Finance|   2019-08-21|\n",
      "|  4|  Nina| 35|   5500|         IT|   2016-12-05|\n",
      "|  5|  Jean| 40|   6000|         RH|   2012-09-30|\n",
      "|  6|  Lisa| 29|   NULL|    Finance|   2021-07-11|\n",
      "|  7|   Tom| 33|   4700|         IT|   2017-03-17|\n",
      "|  8|  Emma| 26|   3500|    Finance|   2022-01-20|\n",
      "|  9|  Paul| 31|   5200|         RH|   2015-05-28|\n",
      "| 10| Clara| 27|   3800|         IT|   2023-02-14|\n",
      "+---+------+---+-------+-----------+-------------+\n",
      "\n"
     ]
    }
   ],
   "source": [
    "# mettre a jours les types de variable\n",
    "df = (\n",
    "    spark.read\n",
    "    .format(\"csv\")\n",
    "    .schema(shema)\n",
    "    .options(header=\"true\")\n",
    "    .load(\"employees.csv\")\n",
    ")\n",
    "df.show()"
   ]
  },
  {
   "cell_type": "code",
   "execution_count": 137,
   "id": "41e4dd5e-fdd6-42c9-92f8-db69c310ac9e",
   "metadata": {},
   "outputs": [
    {
     "name": "stdout",
     "output_type": "stream",
     "text": [
      "+---+-----+---+-------+-----------+-------------+\n",
      "| id|  nom|age|salaire|departement|date_embauche|\n",
      "+---+-----+---+-------+-----------+-------------+\n",
      "|  1|  Ali| 25|   3000|         IT|   2020-06-15|\n",
      "|  4| Nina| 35|   5500|         IT|   2016-12-05|\n",
      "|  7|  Tom| 33|   4700|         IT|   2017-03-17|\n",
      "| 10|Clara| 27|   3800|         IT|   2023-02-14|\n",
      "+---+-----+---+-------+-----------+-------------+\n",
      "\n"
     ]
    }
   ],
   "source": [
    "# employe de It\n",
    "df.filter(df[\"departement\"] == 'IT').show()"
   ]
  },
  {
   "cell_type": "code",
   "execution_count": 139,
   "id": "5e14f3cd-9f1a-48b4-bf11-b4e3212a2494",
   "metadata": {},
   "outputs": [],
   "source": [
    "# creons une vue\n",
    "df.createOrReplaceTempView(\"mgg\")"
   ]
  },
  {
   "cell_type": "code",
   "execution_count": 140,
   "id": "4dbef411-5411-4acb-8a52-8240846f8c29",
   "metadata": {},
   "outputs": [
    {
     "name": "stdout",
     "output_type": "stream",
     "text": [
      "+---+-----+---+-------+-----------+-------------+\n",
      "| id|  nom|age|salaire|departement|date_embauche|\n",
      "+---+-----+---+-------+-----------+-------------+\n",
      "|  1|  Ali| 25|   3000|         IT|   2020-06-15|\n",
      "|  4| Nina| 35|   5500|         IT|   2016-12-05|\n",
      "|  7|  Tom| 33|   4700|         IT|   2017-03-17|\n",
      "| 10|Clara| 27|   3800|         IT|   2023-02-14|\n",
      "+---+-----+---+-------+-----------+-------------+\n",
      "\n"
     ]
    }
   ],
   "source": [
    "# avec sparksql : employer IT\n",
    "spark.sql(\"SELECT * FROM mgg WHERE departement == 'IT'\").show()"
   ]
  },
  {
   "cell_type": "code",
   "execution_count": 141,
   "id": "5a74b81c-e3be-4a61-b4aa-c1da81c850c3",
   "metadata": {},
   "outputs": [
    {
     "name": "stdout",
     "output_type": "stream",
     "text": [
      "+---+------+---+-------+-----------+-------------+\n",
      "| id|   nom|age|salaire|departement|date_embauche|\n",
      "+---+------+---+-------+-----------+-------------+\n",
      "|  2|Sophie| 30|   4500|         RH|   2018-04-10|\n",
      "|  4|  Nina| 35|   5500|         IT|   2016-12-05|\n",
      "|  5|  Jean| 40|   6000|         RH|   2012-09-30|\n",
      "|  7|   Tom| 33|   4700|         IT|   2017-03-17|\n",
      "|  9|  Paul| 31|   5200|         RH|   2015-05-28|\n",
      "+---+------+---+-------+-----------+-------------+\n",
      "\n"
     ]
    }
   ],
   "source": [
    "# employes dont le salaire > 4000 avec spark\n",
    "df.filter(df[\"salaire\"] > 4000).show()"
   ]
  },
  {
   "cell_type": "code",
   "execution_count": 142,
   "id": "62faadc3-b072-490e-a63d-1d37f37608ff",
   "metadata": {},
   "outputs": [
    {
     "name": "stdout",
     "output_type": "stream",
     "text": [
      "+---+------+---+-------+-----------+-------------+\n",
      "| id|   nom|age|salaire|departement|date_embauche|\n",
      "+---+------+---+-------+-----------+-------------+\n",
      "|  2|Sophie| 30|   4500|         RH|   2018-04-10|\n",
      "|  4|  Nina| 35|   5500|         IT|   2016-12-05|\n",
      "|  5|  Jean| 40|   6000|         RH|   2012-09-30|\n",
      "|  7|   Tom| 33|   4700|         IT|   2017-03-17|\n",
      "|  9|  Paul| 31|   5200|         RH|   2015-05-28|\n",
      "+---+------+---+-------+-----------+-------------+\n",
      "\n"
     ]
    }
   ],
   "source": [
    "# avec sparksql: salaire > 4000\n",
    "spark.sql(\"SELECT * FROM mgg WHERE salaire > 4000\").show()"
   ]
  },
  {
   "cell_type": "code",
   "execution_count": 143,
   "id": "46481307-e7a7-43af-83be-803fc981313d",
   "metadata": {},
   "outputs": [
    {
     "name": "stdout",
     "output_type": "stream",
     "text": [
      "+-----------------+\n",
      "|          moy_sal|\n",
      "+-----------------+\n",
      "|4466.666666666667|\n",
      "+-----------------+\n",
      "\n"
     ]
    }
   ],
   "source": [
    "# moyenne des salaire avec spark\n",
    "df.agg(mean(\"salaire\").alias(\"moy_sal\")).show()"
   ]
  },
  {
   "cell_type": "code",
   "execution_count": 144,
   "id": "b968c355-9acd-4afb-94a2-2ea10911edcf",
   "metadata": {},
   "outputs": [
    {
     "name": "stdout",
     "output_type": "stream",
     "text": [
      "+-----------------+\n",
      "|          moy_sal|\n",
      "+-----------------+\n",
      "|4466.666666666667|\n",
      "+-----------------+\n",
      "\n"
     ]
    }
   ],
   "source": [
    "# avec spark sql\n",
    "spark.sql(\"SELECT AVG(salaire) as moy_sal FROM mgg\").show()"
   ]
  },
  {
   "cell_type": "code",
   "execution_count": 145,
   "id": "45ab63e6-2fa2-4024-8197-6419a990af90",
   "metadata": {},
   "outputs": [
    {
     "name": "stdout",
     "output_type": "stream",
     "text": [
      "+---+------+---+-------+-----------+-------------+---------+\n",
      "| id|   nom|age|salaire|departement|date_embauche|ancienete|\n",
      "+---+------+---+-------+-----------+-------------+---------+\n",
      "|  1|   Ali| 25|   3000|         IT|   2020-06-15|        5|\n",
      "|  2|Sophie| 30|   4500|         RH|   2018-04-10|        7|\n",
      "|  3|  Marc| 28|   4000|    Finance|   2019-08-21|        6|\n",
      "|  4|  Nina| 35|   5500|         IT|   2016-12-05|        9|\n",
      "|  5|  Jean| 40|   6000|         RH|   2012-09-30|       13|\n",
      "|  6|  Lisa| 29|   NULL|    Finance|   2021-07-11|        4|\n",
      "|  7|   Tom| 33|   4700|         IT|   2017-03-17|        8|\n",
      "|  8|  Emma| 26|   3500|    Finance|   2022-01-20|        3|\n",
      "|  9|  Paul| 31|   5200|         RH|   2015-05-28|       10|\n",
      "| 10| Clara| 27|   3800|         IT|   2023-02-14|        2|\n",
      "+---+------+---+-------+-----------+-------------+---------+\n",
      "\n"
     ]
    }
   ],
   "source": [
    "# alculer l'ancienete\n",
    "df.withColumn(\"ancienete\", 2025- year(df[\"date_embauche\"])).show()"
   ]
  },
  {
   "cell_type": "code",
   "execution_count": 147,
   "id": "e525e3de-6dee-4001-9f52-85734cb5dcd8",
   "metadata": {},
   "outputs": [
    {
     "name": "stdout",
     "output_type": "stream",
     "text": [
      "+---+------+---+-------+-----------+-------------+\n",
      "| id|   nom|age|salaire|departement|date_embauche|\n",
      "+---+------+---+-------+-----------+-------------+\n",
      "|  1|   Ali| 25|   3000|         IT|   2020-06-15|\n",
      "|  8|  Emma| 26|   3500|    Finance|   2022-01-20|\n",
      "| 10| Clara| 27|   3800|         IT|   2023-02-14|\n",
      "|  3|  Marc| 28|   4000|    Finance|   2019-08-21|\n",
      "|  6|  Lisa| 29|   NULL|    Finance|   2021-07-11|\n",
      "|  2|Sophie| 30|   4500|         RH|   2018-04-10|\n",
      "|  9|  Paul| 31|   5200|         RH|   2015-05-28|\n",
      "|  7|   Tom| 33|   4700|         IT|   2017-03-17|\n",
      "|  4|  Nina| 35|   5500|         IT|   2016-12-05|\n",
      "|  5|  Jean| 40|   6000|         RH|   2012-09-30|\n",
      "+---+------+---+-------+-----------+-------------+\n",
      "\n"
     ]
    }
   ],
   "source": [
    "# trier par age asc\n",
    "df.orderBy(asc(\"age\")).show()"
   ]
  },
  {
   "cell_type": "code",
   "execution_count": 148,
   "id": "7ef374d0-648f-46eb-9bab-063d034db062",
   "metadata": {},
   "outputs": [
    {
     "name": "stdout",
     "output_type": "stream",
     "text": [
      "+---+------+---+-------+-----------+-------------+\n",
      "| id|   nom|age|salaire|departement|date_embauche|\n",
      "+---+------+---+-------+-----------+-------------+\n",
      "|  1|   Ali| 25|   3000|         IT|   2020-06-15|\n",
      "|  8|  Emma| 26|   3500|    Finance|   2022-01-20|\n",
      "| 10| Clara| 27|   3800|         IT|   2023-02-14|\n",
      "|  3|  Marc| 28|   4000|    Finance|   2019-08-21|\n",
      "|  6|  Lisa| 29|   NULL|    Finance|   2021-07-11|\n",
      "|  2|Sophie| 30|   4500|         RH|   2018-04-10|\n",
      "|  9|  Paul| 31|   5200|         RH|   2015-05-28|\n",
      "|  7|   Tom| 33|   4700|         IT|   2017-03-17|\n",
      "|  4|  Nina| 35|   5500|         IT|   2016-12-05|\n",
      "|  5|  Jean| 40|   6000|         RH|   2012-09-30|\n",
      "+---+------+---+-------+-----------+-------------+\n",
      "\n"
     ]
    }
   ],
   "source": [
    "# avec sparksql\n",
    "spark.sql(\"SELECT * FROM mgg ORDER BY age ASC\").show()"
   ]
  },
  {
   "cell_type": "code",
   "execution_count": 149,
   "id": "550a85d1-cf27-492b-891b-109b604fc2fa",
   "metadata": {},
   "outputs": [
    {
     "name": "stdout",
     "output_type": "stream",
     "text": [
      "+-----------+-------+\n",
      "|departement|emp_dep|\n",
      "+-----------+-------+\n",
      "|         RH|      3|\n",
      "|    Finance|      3|\n",
      "|         IT|      4|\n",
      "+-----------+-------+\n",
      "\n"
     ]
    }
   ],
   "source": [
    "# employer par departement\n",
    "df.groupby(\"departement\").agg(count(\"nom\").alias(\"emp_dep\")).show()"
   ]
  },
  {
   "cell_type": "code",
   "execution_count": 150,
   "id": "e544610d-6815-4560-be00-b40400281091",
   "metadata": {},
   "outputs": [
    {
     "name": "stdout",
     "output_type": "stream",
     "text": [
      "+-------+-----------+\n",
      "|emp_dep|departement|\n",
      "+-------+-----------+\n",
      "|      3|         RH|\n",
      "|      3|    Finance|\n",
      "|      4|         IT|\n",
      "+-------+-----------+\n",
      "\n"
     ]
    }
   ],
   "source": [
    "# sparksql\n",
    "spark.sql(\"SELECT COUNT(*) as emp_dep, departement FROM mgg GROUP BY departement\").show()"
   ]
  },
  {
   "cell_type": "code",
   "execution_count": 151,
   "id": "de305ade-55e5-4a91-b4bc-9f39f9da9ada",
   "metadata": {},
   "outputs": [
    {
     "name": "stdout",
     "output_type": "stream",
     "text": [
      "+-----------+-----------------+\n",
      "|departement|      sal_moy_dep|\n",
      "+-----------+-----------------+\n",
      "|         RH|5233.333333333333|\n",
      "|    Finance|           3750.0|\n",
      "|         IT|           4250.0|\n",
      "+-----------+-----------------+\n",
      "\n"
     ]
    }
   ],
   "source": [
    "# Calculer le salaire moyen par département \n",
    "df.groupby(\"departement\").agg(mean(\"salaire\").alias(\"sal_moy_dep\")).show()"
   ]
  },
  {
   "cell_type": "code",
   "execution_count": 153,
   "id": "921d4f5f-9f08-4e9d-bd2f-8e37a20d02eb",
   "metadata": {},
   "outputs": [
    {
     "name": "stdout",
     "output_type": "stream",
     "text": [
      "+-----------------+-----------+\n",
      "|      sal_moy_dep|departement|\n",
      "+-----------------+-----------+\n",
      "|5233.333333333333|         RH|\n",
      "|           3750.0|    Finance|\n",
      "|           4250.0|         IT|\n",
      "+-----------------+-----------+\n",
      "\n"
     ]
    }
   ],
   "source": [
    "# avec sparksql\n",
    "spark.sql(\"SELECT AVG(salaire) as sal_moy_dep, departement FROM mgg GROUP BY departement\").show()"
   ]
  },
  {
   "cell_type": "code",
   "execution_count": 154,
   "id": "65997846-375c-4b17-b0d8-004a7c28e4bc",
   "metadata": {},
   "outputs": [
    {
     "name": "stdout",
     "output_type": "stream",
     "text": [
      "+---+------+---+-------+-----------+-------------+-----+\n",
      "| id|   nom|age|salaire|departement|date_embauche|prime|\n",
      "+---+------+---+-------+-----------+-------------+-----+\n",
      "|  1|   Ali| 25|   3000|         IT|   2020-06-15|300.0|\n",
      "|  2|Sophie| 30|   4500|         RH|   2018-04-10|450.0|\n",
      "|  3|  Marc| 28|   4000|    Finance|   2019-08-21|400.0|\n",
      "|  4|  Nina| 35|   5500|         IT|   2016-12-05|550.0|\n",
      "|  5|  Jean| 40|   6000|         RH|   2012-09-30|600.0|\n",
      "|  6|  Lisa| 29|   NULL|    Finance|   2021-07-11| NULL|\n",
      "|  7|   Tom| 33|   4700|         IT|   2017-03-17|470.0|\n",
      "|  8|  Emma| 26|   3500|    Finance|   2022-01-20|350.0|\n",
      "|  9|  Paul| 31|   5200|         RH|   2015-05-28|520.0|\n",
      "| 10| Clara| 27|   3800|         IT|   2023-02-14|380.0|\n",
      "+---+------+---+-------+-----------+-------------+-----+\n",
      "\n"
     ]
    }
   ],
   "source": [
    "# prime 10%\n",
    "df.withColumn(\"prime\", df[\"salaire\"] * 0.1).show()"
   ]
  },
  {
   "cell_type": "code",
   "execution_count": 155,
   "id": "52d921ed-3d81-4142-b6e8-f97a7bf446f0",
   "metadata": {},
   "outputs": [
    {
     "name": "stdout",
     "output_type": "stream",
     "text": [
      "+-----------------+\n",
      "|      ecart_t_sal|\n",
      "+-----------------+\n",
      "|984.8857801796105|\n",
      "+-----------------+\n",
      "\n"
     ]
    }
   ],
   "source": [
    "df.agg(std(\"salaire\").alias(\"ecart_t_sal\")).show()"
   ]
  },
  {
   "cell_type": "code",
   "execution_count": 157,
   "id": "2aeb6d5d-c3c4-4846-934c-b0527fe73562",
   "metadata": {},
   "outputs": [
    {
     "name": "stdout",
     "output_type": "stream",
     "text": [
      "+-----------+----------+-----------+---+------+---+-------+-------------+\n",
      "|departement|id_manager|nom_manager| id|   nom|age|salaire|date_embauche|\n",
      "+-----------+----------+-----------+---+------+---+-------+-------------+\n",
      "|         IT|         1|  M. Dupont| 10| Clara| 27|   3800|   2023-02-14|\n",
      "|         IT|         1|  M. Dupont|  7|   Tom| 33|   4700|   2017-03-17|\n",
      "|         IT|         1|  M. Dupont|  4|  Nina| 35|   5500|   2016-12-05|\n",
      "|         IT|         1|  M. Dupont|  1|   Ali| 25|   3000|   2020-06-15|\n",
      "|         RH|         2|  Mme Leroy|  9|  Paul| 31|   5200|   2015-05-28|\n",
      "|         RH|         2|  Mme Leroy|  5|  Jean| 40|   6000|   2012-09-30|\n",
      "|         RH|         2|  Mme Leroy|  2|Sophie| 30|   4500|   2018-04-10|\n",
      "|    Finance|         3| M. Garnier|  8|  Emma| 26|   3500|   2022-01-20|\n",
      "|    Finance|         3| M. Garnier|  6|  Lisa| 29|   NULL|   2021-07-11|\n",
      "|    Finance|         3| M. Garnier|  3|  Marc| 28|   4000|   2019-08-21|\n",
      "+-----------+----------+-----------+---+------+---+-------+-------------+\n",
      "\n"
     ]
    }
   ],
   "source": [
    "df1.join(df, \"departement\", \"Left\").show()"
   ]
  },
  {
   "cell_type": "code",
   "execution_count": 159,
   "id": "84cf5149-30fb-41cf-8484-c419063162c5",
   "metadata": {},
   "outputs": [
    {
     "name": "stdout",
     "output_type": "stream",
     "text": [
      "+---+----+---+-------+-----------+-------------+\n",
      "| id| nom|age|salaire|departement|date_embauche|\n",
      "+---+----+---+-------+-----------+-------------+\n",
      "|  3|Marc| 28|   4000|    Finance|   2019-08-21|\n",
      "|  6|Lisa| 29|   NULL|    Finance|   2021-07-11|\n",
      "|  8|Emma| 26|   3500|    Finance|   2022-01-20|\n",
      "+---+----+---+-------+-----------+-------------+\n",
      "\n"
     ]
    }
   ],
   "source": [
    "df.filter(df[\"departement\"]=='Finance').show()"
   ]
  },
  {
   "cell_type": "code",
   "execution_count": 181,
   "id": "041d625e-3998-4b01-a52f-9e538b2f3965",
   "metadata": {},
   "outputs": [
    {
     "name": "stdout",
     "output_type": "stream",
     "text": [
      "+-----------+------------------+\n",
      "|departement|       moy_dep_age|\n",
      "+-----------+------------------+\n",
      "|         RH|33.666666666666664|\n",
      "|    Finance|27.666666666666668|\n",
      "|         IT|              30.0|\n",
      "+-----------+------------------+\n",
      "\n"
     ]
    }
   ],
   "source": [
    "df.groupby(\"departement\").agg(mean(\"age\").alias(\"moy_dep_age\")).show()"
   ]
  },
  {
   "cell_type": "code",
   "execution_count": 187,
   "id": "25665dc2-d660-4d43-9128-f069dfa12b8d",
   "metadata": {},
   "outputs": [
    {
     "name": "stdout",
     "output_type": "stream",
     "text": [
      "+------------------+-----------+\n",
      "|       age_moy_dep|departement|\n",
      "+------------------+-----------+\n",
      "|33.666666666666664|         RH|\n",
      "|27.666666666666668|    Finance|\n",
      "|              30.0|         IT|\n",
      "+------------------+-----------+\n",
      "\n"
     ]
    }
   ],
   "source": [
    "spark.sql(\"select avg(age) as age_moy_dep,departement from mgg group by departement\").show()"
   ]
  },
  {
   "cell_type": "code",
   "execution_count": 189,
   "id": "e5139f24-dcae-45af-887b-b5969315bc3b",
   "metadata": {},
   "outputs": [
    {
     "name": "stdout",
     "output_type": "stream",
     "text": [
      "+-------+-----------+\n",
      "|sal_max|departement|\n",
      "+-------+-----------+\n",
      "|   6000|         RH|\n",
      "|   4000|    Finance|\n",
      "|   5500|         IT|\n",
      "+-------+-----------+\n",
      "\n"
     ]
    }
   ],
   "source": [
    "spark.sql(\"select max(salaire) as sal_max,departement from mgg group by departement\").show()"
   ]
  },
  {
   "cell_type": "code",
   "execution_count": 199,
   "id": "862f12b5-7063-47d0-a131-c4f9402a86be",
   "metadata": {},
   "outputs": [
    {
     "name": "stdout",
     "output_type": "stream",
     "text": [
      "+---+----+---+-------+-----------+-------------+\n",
      "| id| nom|age|salaire|departement|date_embauche|\n",
      "+---+----+---+-------+-----------+-------------+\n",
      "|  3|Marc| 28|   4000|    Finance|   2019-08-21|\n",
      "|  6|Lisa| 29|   NULL|    Finance|   2021-07-11|\n",
      "|  8|Emma| 26|   3500|    Finance|   2022-01-20|\n",
      "+---+----+---+-------+-----------+-------------+\n",
      "\n"
     ]
    }
   ],
   "source": [
    "spark.sql(\"select * from mgg where departement like '%e'\").show()"
   ]
  },
  {
   "cell_type": "code",
   "execution_count": null,
   "id": "3a7d990e-140d-4477-9ffd-05aad21ac5e8",
   "metadata": {},
   "outputs": [],
   "source": []
  }
 ],
 "metadata": {
  "kernelspec": {
   "display_name": "Python [conda env:base] *",
   "language": "python",
   "name": "conda-base-py"
  },
  "language_info": {
   "codemirror_mode": {
    "name": "ipython",
    "version": 3
   },
   "file_extension": ".py",
   "mimetype": "text/x-python",
   "name": "python",
   "nbconvert_exporter": "python",
   "pygments_lexer": "ipython3",
   "version": "3.12.7"
  }
 },
 "nbformat": 4,
 "nbformat_minor": 5
}
