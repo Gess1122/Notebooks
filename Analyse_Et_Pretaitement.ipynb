{
 "cells": [
  {
   "cell_type": "markdown",
   "id": "3629ba82-8fa5-4996-bece-5bfbfd67acae",
   "metadata": {},
   "source": [
    "from IPython.display import HTML\n",
    "\n",
    "HTML(\"\"\"\n",
    "<div style=\"background-color: rgb(0, 150, 250); text-align: center;\">\n",
    "  <h2 style=\"margin: auto; padding: 20px; color: #ffffff;\">\n",
    "    PRÉTRAITEMENT ET ANALYSE DES ACCIDENTS ROUTIERS AU NIGERIA\n",
    "  </h2>\n",
    "</div>\n",
    "\"\"\")"
   ]
  },
  {
   "cell_type": "markdown",
   "id": "5584b758-27ad-48c6-8185-55f98077dd5a",
   "metadata": {},
   "source": [
    "- Importer les bibliotheques que l'on a besoin pour le pretraitement et nettoyage "
   ]
  },
  {
   "cell_type": "code",
   "execution_count": 11,
   "id": "e169165e-bfcb-4656-9a99-3aa252da06bd",
   "metadata": {},
   "outputs": [],
   "source": [
    "import numpy as np\n",
    "import pandas as pd\n",
    "import seaborn as sns\n",
    "import matplotlib.pyplot as plt\n",
    "from sklearn.impute import SimpleImputer"
   ]
  },
  {
   "cell_type": "code",
   "execution_count": 12,
   "id": "73ea9222-e52f-43eb-b98c-7fe65e6960c9",
   "metadata": {},
   "outputs": [
    {
     "data": {
      "text/html": [
       "<div>\n",
       "<style scoped>\n",
       "    .dataframe tbody tr th:only-of-type {\n",
       "        vertical-align: middle;\n",
       "    }\n",
       "\n",
       "    .dataframe tbody tr th {\n",
       "        vertical-align: top;\n",
       "    }\n",
       "\n",
       "    .dataframe thead th {\n",
       "        text-align: right;\n",
       "    }\n",
       "</style>\n",
       "<table border=\"1\" class=\"dataframe\">\n",
       "  <thead>\n",
       "    <tr style=\"text-align: right;\">\n",
       "      <th></th>\n",
       "      <th>Time</th>\n",
       "      <th>Day_of_week</th>\n",
       "      <th>Age_band_of_driver</th>\n",
       "      <th>Sex_of_driver</th>\n",
       "      <th>Educational_level</th>\n",
       "      <th>Vehicle_driver_relation</th>\n",
       "      <th>Driving_experience</th>\n",
       "      <th>Type_of_vehicle</th>\n",
       "      <th>Owner_of_vehicle</th>\n",
       "      <th>Service_year_of_vehicle</th>\n",
       "      <th>...</th>\n",
       "      <th>Vehicle_movement</th>\n",
       "      <th>Casualty_class</th>\n",
       "      <th>Sex_of_casualty</th>\n",
       "      <th>Age_band_of_casualty</th>\n",
       "      <th>Casualty_severity</th>\n",
       "      <th>Work_of_casuality</th>\n",
       "      <th>Fitness_of_casuality</th>\n",
       "      <th>Pedestrian_movement</th>\n",
       "      <th>Cause_of_accident</th>\n",
       "      <th>Accident_severity</th>\n",
       "    </tr>\n",
       "  </thead>\n",
       "  <tbody>\n",
       "    <tr>\n",
       "      <th>0</th>\n",
       "      <td>17:02:00</td>\n",
       "      <td>Monday</td>\n",
       "      <td>18-30</td>\n",
       "      <td>Male</td>\n",
       "      <td>Above high school</td>\n",
       "      <td>Employee</td>\n",
       "      <td>1-2yr</td>\n",
       "      <td>Automobile</td>\n",
       "      <td>Owner</td>\n",
       "      <td>Above 10yr</td>\n",
       "      <td>...</td>\n",
       "      <td>Going straight</td>\n",
       "      <td>na</td>\n",
       "      <td>na</td>\n",
       "      <td>na</td>\n",
       "      <td>na</td>\n",
       "      <td>NaN</td>\n",
       "      <td>NaN</td>\n",
       "      <td>Not a Pedestrian</td>\n",
       "      <td>Moving Backward</td>\n",
       "      <td>Slight Injury</td>\n",
       "    </tr>\n",
       "    <tr>\n",
       "      <th>1</th>\n",
       "      <td>17:02:00</td>\n",
       "      <td>Monday</td>\n",
       "      <td>31-50</td>\n",
       "      <td>Male</td>\n",
       "      <td>Junior high school</td>\n",
       "      <td>Employee</td>\n",
       "      <td>Above 10yr</td>\n",
       "      <td>Public (&gt; 45 seats)</td>\n",
       "      <td>Owner</td>\n",
       "      <td>5-10yrs</td>\n",
       "      <td>...</td>\n",
       "      <td>Going straight</td>\n",
       "      <td>na</td>\n",
       "      <td>na</td>\n",
       "      <td>na</td>\n",
       "      <td>na</td>\n",
       "      <td>NaN</td>\n",
       "      <td>NaN</td>\n",
       "      <td>Not a Pedestrian</td>\n",
       "      <td>Overtaking</td>\n",
       "      <td>Slight Injury</td>\n",
       "    </tr>\n",
       "    <tr>\n",
       "      <th>2</th>\n",
       "      <td>17:02:00</td>\n",
       "      <td>Monday</td>\n",
       "      <td>18-30</td>\n",
       "      <td>Male</td>\n",
       "      <td>Junior high school</td>\n",
       "      <td>Employee</td>\n",
       "      <td>1-2yr</td>\n",
       "      <td>Lorry (41?100Q)</td>\n",
       "      <td>Owner</td>\n",
       "      <td>NaN</td>\n",
       "      <td>...</td>\n",
       "      <td>Going straight</td>\n",
       "      <td>Driver or rider</td>\n",
       "      <td>Male</td>\n",
       "      <td>31-50</td>\n",
       "      <td>3</td>\n",
       "      <td>Driver</td>\n",
       "      <td>NaN</td>\n",
       "      <td>Not a Pedestrian</td>\n",
       "      <td>Changing lane to the left</td>\n",
       "      <td>Serious Injury</td>\n",
       "    </tr>\n",
       "    <tr>\n",
       "      <th>3</th>\n",
       "      <td>1:06:00</td>\n",
       "      <td>Sunday</td>\n",
       "      <td>18-30</td>\n",
       "      <td>Male</td>\n",
       "      <td>Junior high school</td>\n",
       "      <td>Employee</td>\n",
       "      <td>5-10yr</td>\n",
       "      <td>Public (&gt; 45 seats)</td>\n",
       "      <td>Governmental</td>\n",
       "      <td>NaN</td>\n",
       "      <td>...</td>\n",
       "      <td>Going straight</td>\n",
       "      <td>Pedestrian</td>\n",
       "      <td>Female</td>\n",
       "      <td>18-30</td>\n",
       "      <td>3</td>\n",
       "      <td>Driver</td>\n",
       "      <td>Normal</td>\n",
       "      <td>Not a Pedestrian</td>\n",
       "      <td>Changing lane to the right</td>\n",
       "      <td>Slight Injury</td>\n",
       "    </tr>\n",
       "    <tr>\n",
       "      <th>4</th>\n",
       "      <td>1:06:00</td>\n",
       "      <td>Sunday</td>\n",
       "      <td>18-30</td>\n",
       "      <td>Male</td>\n",
       "      <td>Junior high school</td>\n",
       "      <td>Employee</td>\n",
       "      <td>2-5yr</td>\n",
       "      <td>NaN</td>\n",
       "      <td>Owner</td>\n",
       "      <td>5-10yrs</td>\n",
       "      <td>...</td>\n",
       "      <td>Going straight</td>\n",
       "      <td>na</td>\n",
       "      <td>na</td>\n",
       "      <td>na</td>\n",
       "      <td>na</td>\n",
       "      <td>NaN</td>\n",
       "      <td>NaN</td>\n",
       "      <td>Not a Pedestrian</td>\n",
       "      <td>Overtaking</td>\n",
       "      <td>Slight Injury</td>\n",
       "    </tr>\n",
       "  </tbody>\n",
       "</table>\n",
       "<p>5 rows × 32 columns</p>\n",
       "</div>"
      ],
      "text/plain": [
       "       Time Day_of_week Age_band_of_driver Sex_of_driver   Educational_level  \\\n",
       "0  17:02:00      Monday              18-30          Male   Above high school   \n",
       "1  17:02:00      Monday              31-50          Male  Junior high school   \n",
       "2  17:02:00      Monday              18-30          Male  Junior high school   \n",
       "3   1:06:00      Sunday              18-30          Male  Junior high school   \n",
       "4   1:06:00      Sunday              18-30          Male  Junior high school   \n",
       "\n",
       "  Vehicle_driver_relation Driving_experience      Type_of_vehicle  \\\n",
       "0                Employee              1-2yr           Automobile   \n",
       "1                Employee         Above 10yr  Public (> 45 seats)   \n",
       "2                Employee              1-2yr      Lorry (41?100Q)   \n",
       "3                Employee             5-10yr  Public (> 45 seats)   \n",
       "4                Employee              2-5yr                  NaN   \n",
       "\n",
       "  Owner_of_vehicle Service_year_of_vehicle  ... Vehicle_movement  \\\n",
       "0            Owner              Above 10yr  ...   Going straight   \n",
       "1            Owner                 5-10yrs  ...   Going straight   \n",
       "2            Owner                     NaN  ...   Going straight   \n",
       "3     Governmental                     NaN  ...   Going straight   \n",
       "4            Owner                 5-10yrs  ...   Going straight   \n",
       "\n",
       "    Casualty_class Sex_of_casualty Age_band_of_casualty Casualty_severity  \\\n",
       "0               na              na                   na                na   \n",
       "1               na              na                   na                na   \n",
       "2  Driver or rider            Male                31-50                 3   \n",
       "3       Pedestrian          Female                18-30                 3   \n",
       "4               na              na                   na                na   \n",
       "\n",
       "  Work_of_casuality Fitness_of_casuality Pedestrian_movement  \\\n",
       "0               NaN                  NaN    Not a Pedestrian   \n",
       "1               NaN                  NaN    Not a Pedestrian   \n",
       "2            Driver                  NaN    Not a Pedestrian   \n",
       "3            Driver               Normal    Not a Pedestrian   \n",
       "4               NaN                  NaN    Not a Pedestrian   \n",
       "\n",
       "            Cause_of_accident Accident_severity  \n",
       "0             Moving Backward     Slight Injury  \n",
       "1                  Overtaking     Slight Injury  \n",
       "2   Changing lane to the left    Serious Injury  \n",
       "3  Changing lane to the right     Slight Injury  \n",
       "4                  Overtaking     Slight Injury  \n",
       "\n",
       "[5 rows x 32 columns]"
      ]
     },
     "execution_count": 12,
     "metadata": {},
     "output_type": "execute_result"
    }
   ],
   "source": [
    "# charger le dataset\n",
    "df = pd.read_csv(\"Accidents_Addis-Abeba.csv\", sep=',')\n",
    "df.head()"
   ]
  },
  {
   "cell_type": "markdown",
   "id": "25d62da2-daa1-4b4c-bfb3-e5773319b76c",
   "metadata": {},
   "source": [
    "<div style= \"border: 1px solid RGB(0,150,250);\" >\n",
    "<h3 style=\"margin: auto; padding: 20px; color: RGB(0,150,250); \">1.1 - Gestion et Nettoyage des donnees</h3>\n",
    "</div>"
   ]
  },
  {
   "cell_type": "code",
   "execution_count": 14,
   "id": "afd0da05-2e98-4d3f-a723-72691d6e4d2c",
   "metadata": {},
   "outputs": [
    {
     "data": {
      "text/plain": [
       "Defect_of_vehicle              0.353\n",
       "Service_year_of_vehicle        0.304\n",
       "Work_of_casuality              0.262\n",
       "Fitness_of_casuality           0.206\n",
       "Type_of_vehicle                0.073\n",
       "Driving_experience             0.065\n",
       "Educational_level              0.058\n",
       "Owner_of_vehicle               0.038\n",
       "Lanes_or_Medians               0.030\n",
       "Vehicle_driver_relation        0.029\n",
       "Area_accident_occured          0.019\n",
       "Road_surface_type              0.012\n",
       "Road_allignment                0.009\n",
       "Type_of_collision              0.005\n",
       "Casualty_severity              0.000\n",
       "Age_band_of_casualty           0.000\n",
       "Sex_of_casualty                0.000\n",
       "Time                           0.000\n",
       "Vehicle_movement               0.000\n",
       "Pedestrian_movement            0.000\n",
       "Cause_of_accident              0.000\n",
       "Casualty_class                 0.000\n",
       "Road_surface_conditions        0.000\n",
       "Number_of_casualties           0.000\n",
       "Number_of_vehicles_involved    0.000\n",
       "Weather_conditions             0.000\n",
       "Light_conditions               0.000\n",
       "Day_of_week                    0.000\n",
       "Types_of_Junction              0.000\n",
       "Sex_of_driver                  0.000\n",
       "Age_band_of_driver             0.000\n",
       "Accident_severity              0.000\n",
       "dtype: float64"
      ]
     },
     "execution_count": 14,
     "metadata": {},
     "output_type": "execute_result"
    }
   ],
   "source": [
    "# Afficher le nombre de valeur manquantes\n",
    "\n",
    "val_manq = df.isnull().sum()/df.shape[0]\n",
    "val_manq.sort_values(ascending = False)"
   ]
  },
  {
   "cell_type": "markdown",
   "id": "2c3e42aa-8ce5-4d44-85ea-e5fbf0ca77c0",
   "metadata": {},
   "source": [
    "- ici, on va supprimer tous les colonnes qui on un taux superieur a 0.077, sinon cela affectera notre analyse"
   ]
  },
  {
   "cell_type": "code",
   "execution_count": 16,
   "id": "3548afef-5de5-46a4-9db4-21865a947db8",
   "metadata": {},
   "outputs": [],
   "source": [
    "# supprime les colonnes\n",
    "seuil = 0.075\n",
    "supp_colonnes = val_manq[val_manq > seuil].index\n",
    "df = df.drop(columns=supp_colonnes)"
   ]
  },
  {
   "cell_type": "code",
   "execution_count": 17,
   "id": "f532b7d9-df36-488a-be71-29ddc3d426d3",
   "metadata": {},
   "outputs": [
    {
     "data": {
      "text/plain": [
       "Index(['Time', 'Day_of_week', 'Age_band_of_driver', 'Sex_of_driver',\n",
       "       'Educational_level', 'Vehicle_driver_relation', 'Driving_experience',\n",
       "       'Type_of_vehicle', 'Owner_of_vehicle', 'Area_accident_occured',\n",
       "       'Lanes_or_Medians', 'Road_allignment', 'Types_of_Junction',\n",
       "       'Road_surface_type', 'Road_surface_conditions', 'Light_conditions',\n",
       "       'Weather_conditions', 'Type_of_collision',\n",
       "       'Number_of_vehicles_involved', 'Number_of_casualties',\n",
       "       'Vehicle_movement', 'Casualty_class', 'Sex_of_casualty',\n",
       "       'Age_band_of_casualty', 'Casualty_severity', 'Pedestrian_movement',\n",
       "       'Cause_of_accident', 'Accident_severity'],\n",
       "      dtype='object')"
      ]
     },
     "execution_count": 17,
     "metadata": {},
     "output_type": "execute_result"
    }
   ],
   "source": [
    "df.columns"
   ]
  },
  {
   "cell_type": "markdown",
   "id": "ed4f2cc5-7c53-485d-aa11-5a9f5cf86e2a",
   "metadata": {},
   "source": [
    "### Imputation"
   ]
  },
  {
   "cell_type": "code",
   "execution_count": 19,
   "id": "7e7841c5-9a9d-4d5a-9f06-9eb03cd41284",
   "metadata": {},
   "outputs": [
    {
     "data": {
      "text/html": [
       "<div>\n",
       "<style scoped>\n",
       "    .dataframe tbody tr th:only-of-type {\n",
       "        vertical-align: middle;\n",
       "    }\n",
       "\n",
       "    .dataframe tbody tr th {\n",
       "        vertical-align: top;\n",
       "    }\n",
       "\n",
       "    .dataframe thead th {\n",
       "        text-align: right;\n",
       "    }\n",
       "</style>\n",
       "<table border=\"1\" class=\"dataframe\">\n",
       "  <thead>\n",
       "    <tr style=\"text-align: right;\">\n",
       "      <th></th>\n",
       "      <th>Number_of_vehicles_involved</th>\n",
       "      <th>Number_of_casualties</th>\n",
       "    </tr>\n",
       "  </thead>\n",
       "  <tbody>\n",
       "    <tr>\n",
       "      <th>0</th>\n",
       "      <td>2</td>\n",
       "      <td>2</td>\n",
       "    </tr>\n",
       "    <tr>\n",
       "      <th>1</th>\n",
       "      <td>2</td>\n",
       "      <td>2</td>\n",
       "    </tr>\n",
       "    <tr>\n",
       "      <th>2</th>\n",
       "      <td>2</td>\n",
       "      <td>2</td>\n",
       "    </tr>\n",
       "    <tr>\n",
       "      <th>3</th>\n",
       "      <td>2</td>\n",
       "      <td>2</td>\n",
       "    </tr>\n",
       "    <tr>\n",
       "      <th>4</th>\n",
       "      <td>2</td>\n",
       "      <td>2</td>\n",
       "    </tr>\n",
       "  </tbody>\n",
       "</table>\n",
       "</div>"
      ],
      "text/plain": [
       "   Number_of_vehicles_involved  Number_of_casualties\n",
       "0                            2                     2\n",
       "1                            2                     2\n",
       "2                            2                     2\n",
       "3                            2                     2\n",
       "4                            2                     2"
      ]
     },
     "execution_count": 19,
     "metadata": {},
     "output_type": "execute_result"
    }
   ],
   "source": [
    "# on separe les variable numerique et les variables categorielle\n",
    "\n",
    "df_num = df.select_dtypes(include = [int, float, bool])\n",
    "num_col = df_num.columns\n",
    "df_num.head()"
   ]
  },
  {
   "cell_type": "code",
   "execution_count": 20,
   "id": "2d67ad32-3a42-460a-a399-f82e4685e680",
   "metadata": {},
   "outputs": [
    {
     "data": {
      "text/html": [
       "<div>\n",
       "<style scoped>\n",
       "    .dataframe tbody tr th:only-of-type {\n",
       "        vertical-align: middle;\n",
       "    }\n",
       "\n",
       "    .dataframe tbody tr th {\n",
       "        vertical-align: top;\n",
       "    }\n",
       "\n",
       "    .dataframe thead th {\n",
       "        text-align: right;\n",
       "    }\n",
       "</style>\n",
       "<table border=\"1\" class=\"dataframe\">\n",
       "  <thead>\n",
       "    <tr style=\"text-align: right;\">\n",
       "      <th></th>\n",
       "      <th>Time</th>\n",
       "      <th>Day_of_week</th>\n",
       "      <th>Age_band_of_driver</th>\n",
       "      <th>Sex_of_driver</th>\n",
       "      <th>Educational_level</th>\n",
       "      <th>Vehicle_driver_relation</th>\n",
       "      <th>Driving_experience</th>\n",
       "      <th>Type_of_vehicle</th>\n",
       "      <th>Owner_of_vehicle</th>\n",
       "      <th>Area_accident_occured</th>\n",
       "      <th>...</th>\n",
       "      <th>Weather_conditions</th>\n",
       "      <th>Type_of_collision</th>\n",
       "      <th>Vehicle_movement</th>\n",
       "      <th>Casualty_class</th>\n",
       "      <th>Sex_of_casualty</th>\n",
       "      <th>Age_band_of_casualty</th>\n",
       "      <th>Casualty_severity</th>\n",
       "      <th>Pedestrian_movement</th>\n",
       "      <th>Cause_of_accident</th>\n",
       "      <th>Accident_severity</th>\n",
       "    </tr>\n",
       "  </thead>\n",
       "  <tbody>\n",
       "    <tr>\n",
       "      <th>0</th>\n",
       "      <td>17:02:00</td>\n",
       "      <td>Monday</td>\n",
       "      <td>18-30</td>\n",
       "      <td>Male</td>\n",
       "      <td>Above high school</td>\n",
       "      <td>Employee</td>\n",
       "      <td>1-2yr</td>\n",
       "      <td>Automobile</td>\n",
       "      <td>Owner</td>\n",
       "      <td>Residential areas</td>\n",
       "      <td>...</td>\n",
       "      <td>Normal</td>\n",
       "      <td>Collision with roadside-parked vehicles</td>\n",
       "      <td>Going straight</td>\n",
       "      <td>na</td>\n",
       "      <td>na</td>\n",
       "      <td>na</td>\n",
       "      <td>na</td>\n",
       "      <td>Not a Pedestrian</td>\n",
       "      <td>Moving Backward</td>\n",
       "      <td>Slight Injury</td>\n",
       "    </tr>\n",
       "    <tr>\n",
       "      <th>1</th>\n",
       "      <td>17:02:00</td>\n",
       "      <td>Monday</td>\n",
       "      <td>31-50</td>\n",
       "      <td>Male</td>\n",
       "      <td>Junior high school</td>\n",
       "      <td>Employee</td>\n",
       "      <td>Above 10yr</td>\n",
       "      <td>Public (&gt; 45 seats)</td>\n",
       "      <td>Owner</td>\n",
       "      <td>Office areas</td>\n",
       "      <td>...</td>\n",
       "      <td>Normal</td>\n",
       "      <td>Vehicle with vehicle collision</td>\n",
       "      <td>Going straight</td>\n",
       "      <td>na</td>\n",
       "      <td>na</td>\n",
       "      <td>na</td>\n",
       "      <td>na</td>\n",
       "      <td>Not a Pedestrian</td>\n",
       "      <td>Overtaking</td>\n",
       "      <td>Slight Injury</td>\n",
       "    </tr>\n",
       "    <tr>\n",
       "      <th>2</th>\n",
       "      <td>17:02:00</td>\n",
       "      <td>Monday</td>\n",
       "      <td>18-30</td>\n",
       "      <td>Male</td>\n",
       "      <td>Junior high school</td>\n",
       "      <td>Employee</td>\n",
       "      <td>1-2yr</td>\n",
       "      <td>Lorry (41?100Q)</td>\n",
       "      <td>Owner</td>\n",
       "      <td>Recreational areas</td>\n",
       "      <td>...</td>\n",
       "      <td>Normal</td>\n",
       "      <td>Collision with roadside objects</td>\n",
       "      <td>Going straight</td>\n",
       "      <td>Driver or rider</td>\n",
       "      <td>Male</td>\n",
       "      <td>31-50</td>\n",
       "      <td>3</td>\n",
       "      <td>Not a Pedestrian</td>\n",
       "      <td>Changing lane to the left</td>\n",
       "      <td>Serious Injury</td>\n",
       "    </tr>\n",
       "    <tr>\n",
       "      <th>3</th>\n",
       "      <td>1:06:00</td>\n",
       "      <td>Sunday</td>\n",
       "      <td>18-30</td>\n",
       "      <td>Male</td>\n",
       "      <td>Junior high school</td>\n",
       "      <td>Employee</td>\n",
       "      <td>5-10yr</td>\n",
       "      <td>Public (&gt; 45 seats)</td>\n",
       "      <td>Governmental</td>\n",
       "      <td>Office areas</td>\n",
       "      <td>...</td>\n",
       "      <td>Normal</td>\n",
       "      <td>Vehicle with vehicle collision</td>\n",
       "      <td>Going straight</td>\n",
       "      <td>Pedestrian</td>\n",
       "      <td>Female</td>\n",
       "      <td>18-30</td>\n",
       "      <td>3</td>\n",
       "      <td>Not a Pedestrian</td>\n",
       "      <td>Changing lane to the right</td>\n",
       "      <td>Slight Injury</td>\n",
       "    </tr>\n",
       "    <tr>\n",
       "      <th>4</th>\n",
       "      <td>1:06:00</td>\n",
       "      <td>Sunday</td>\n",
       "      <td>18-30</td>\n",
       "      <td>Male</td>\n",
       "      <td>Junior high school</td>\n",
       "      <td>Employee</td>\n",
       "      <td>2-5yr</td>\n",
       "      <td>NaN</td>\n",
       "      <td>Owner</td>\n",
       "      <td>Industrial areas</td>\n",
       "      <td>...</td>\n",
       "      <td>Normal</td>\n",
       "      <td>Vehicle with vehicle collision</td>\n",
       "      <td>Going straight</td>\n",
       "      <td>na</td>\n",
       "      <td>na</td>\n",
       "      <td>na</td>\n",
       "      <td>na</td>\n",
       "      <td>Not a Pedestrian</td>\n",
       "      <td>Overtaking</td>\n",
       "      <td>Slight Injury</td>\n",
       "    </tr>\n",
       "  </tbody>\n",
       "</table>\n",
       "<p>5 rows × 26 columns</p>\n",
       "</div>"
      ],
      "text/plain": [
       "       Time Day_of_week Age_band_of_driver Sex_of_driver   Educational_level  \\\n",
       "0  17:02:00      Monday              18-30          Male   Above high school   \n",
       "1  17:02:00      Monday              31-50          Male  Junior high school   \n",
       "2  17:02:00      Monday              18-30          Male  Junior high school   \n",
       "3   1:06:00      Sunday              18-30          Male  Junior high school   \n",
       "4   1:06:00      Sunday              18-30          Male  Junior high school   \n",
       "\n",
       "  Vehicle_driver_relation Driving_experience      Type_of_vehicle  \\\n",
       "0                Employee              1-2yr           Automobile   \n",
       "1                Employee         Above 10yr  Public (> 45 seats)   \n",
       "2                Employee              1-2yr      Lorry (41?100Q)   \n",
       "3                Employee             5-10yr  Public (> 45 seats)   \n",
       "4                Employee              2-5yr                  NaN   \n",
       "\n",
       "  Owner_of_vehicle Area_accident_occured  ... Weather_conditions  \\\n",
       "0            Owner     Residential areas  ...             Normal   \n",
       "1            Owner          Office areas  ...             Normal   \n",
       "2            Owner    Recreational areas  ...             Normal   \n",
       "3     Governmental          Office areas  ...             Normal   \n",
       "4            Owner      Industrial areas  ...             Normal   \n",
       "\n",
       "                         Type_of_collision Vehicle_movement   Casualty_class  \\\n",
       "0  Collision with roadside-parked vehicles   Going straight               na   \n",
       "1           Vehicle with vehicle collision   Going straight               na   \n",
       "2          Collision with roadside objects   Going straight  Driver or rider   \n",
       "3           Vehicle with vehicle collision   Going straight       Pedestrian   \n",
       "4           Vehicle with vehicle collision   Going straight               na   \n",
       "\n",
       "  Sex_of_casualty Age_band_of_casualty Casualty_severity Pedestrian_movement  \\\n",
       "0              na                   na                na    Not a Pedestrian   \n",
       "1              na                   na                na    Not a Pedestrian   \n",
       "2            Male                31-50                 3    Not a Pedestrian   \n",
       "3          Female                18-30                 3    Not a Pedestrian   \n",
       "4              na                   na                na    Not a Pedestrian   \n",
       "\n",
       "            Cause_of_accident Accident_severity  \n",
       "0             Moving Backward     Slight Injury  \n",
       "1                  Overtaking     Slight Injury  \n",
       "2   Changing lane to the left    Serious Injury  \n",
       "3  Changing lane to the right     Slight Injury  \n",
       "4                  Overtaking     Slight Injury  \n",
       "\n",
       "[5 rows x 26 columns]"
      ]
     },
     "execution_count": 20,
     "metadata": {},
     "output_type": "execute_result"
    }
   ],
   "source": [
    "df_cat = df.select_dtypes(exclude = [int, float, bool])\n",
    "cat_col = df_cat.columns\n",
    "df_cat.head()"
   ]
  },
  {
   "cell_type": "markdown",
   "id": "656f49ba-d273-4dfe-b84b-3c5e522118ae",
   "metadata": {},
   "source": [
    "### On fait l'imputation: pour les variables numeriques on remplace les valeurs manquantes par la moyenne et les variables categorielles par le mode"
   ]
  },
  {
   "cell_type": "code",
   "execution_count": 22,
   "id": "bfb9de5a-0d8e-4d9d-96d9-46abee9fa3ac",
   "metadata": {},
   "outputs": [],
   "source": [
    "# variable numerique\n",
    "imputer_num = SimpleImputer()\n",
    "df_num = pd.DataFrame(imputer_num.fit_transform(df_num), columns = num_col)\n"
   ]
  },
  {
   "cell_type": "code",
   "execution_count": 23,
   "id": "bc0e4239-b52d-46d7-ad17-6b28a77d6b56",
   "metadata": {},
   "outputs": [],
   "source": [
    "imputer_cat = SimpleImputer(strategy = 'most_frequent')\n",
    "df_cat = pd.DataFrame(imputer_cat.fit_transform(df_cat), columns = cat_col)"
   ]
  },
  {
   "cell_type": "code",
   "execution_count": 24,
   "id": "55fe8970-8117-4a3e-8472-ca2132cad312",
   "metadata": {},
   "outputs": [],
   "source": [
    "# On assemble les variable\n",
    "df1 = pd.concat([df_num, df_cat], axis = 1)"
   ]
  },
  {
   "cell_type": "code",
   "execution_count": 25,
   "id": "7dbde6cd-9ab8-4650-ad61-f5fd4e3003d1",
   "metadata": {},
   "outputs": [
    {
     "data": {
      "text/plain": [
       "Number_of_vehicles_involved    0.0\n",
       "Number_of_casualties           0.0\n",
       "Cause_of_accident              0.0\n",
       "Pedestrian_movement            0.0\n",
       "Casualty_severity              0.0\n",
       "Age_band_of_casualty           0.0\n",
       "Sex_of_casualty                0.0\n",
       "Casualty_class                 0.0\n",
       "Vehicle_movement               0.0\n",
       "Type_of_collision              0.0\n",
       "Weather_conditions             0.0\n",
       "Light_conditions               0.0\n",
       "Road_surface_conditions        0.0\n",
       "Road_surface_type              0.0\n",
       "Types_of_Junction              0.0\n",
       "Road_allignment                0.0\n",
       "Lanes_or_Medians               0.0\n",
       "Area_accident_occured          0.0\n",
       "Owner_of_vehicle               0.0\n",
       "Type_of_vehicle                0.0\n",
       "Driving_experience             0.0\n",
       "Vehicle_driver_relation        0.0\n",
       "Educational_level              0.0\n",
       "Sex_of_driver                  0.0\n",
       "Age_band_of_driver             0.0\n",
       "Day_of_week                    0.0\n",
       "Time                           0.0\n",
       "Accident_severity              0.0\n",
       "dtype: float64"
      ]
     },
     "execution_count": 25,
     "metadata": {},
     "output_type": "execute_result"
    }
   ],
   "source": [
    "# Verification\n",
    "\n",
    "val_manq = df1.isnull().sum()/df1.shape[0]\n",
    "val_manq.sort_values(ascending = False)"
   ]
  },
  {
   "cell_type": "code",
   "execution_count": 26,
   "id": "1d67e0d4-d8ba-4094-89a6-7030267c9a0f",
   "metadata": {},
   "outputs": [
    {
     "name": "stdout",
     "output_type": "stream",
     "text": [
      "<class 'pandas.core.frame.DataFrame'>\n",
      "RangeIndex: 1000 entries, 0 to 999\n",
      "Data columns (total 28 columns):\n",
      " #   Column                       Non-Null Count  Dtype \n",
      "---  ------                       --------------  ----- \n",
      " 0   Time                         1000 non-null   object\n",
      " 1   Day_of_week                  1000 non-null   object\n",
      " 2   Age_band_of_driver           1000 non-null   object\n",
      " 3   Sex_of_driver                1000 non-null   object\n",
      " 4   Educational_level            942 non-null    object\n",
      " 5   Vehicle_driver_relation      971 non-null    object\n",
      " 6   Driving_experience           935 non-null    object\n",
      " 7   Type_of_vehicle              927 non-null    object\n",
      " 8   Owner_of_vehicle             962 non-null    object\n",
      " 9   Area_accident_occured        981 non-null    object\n",
      " 10  Lanes_or_Medians             970 non-null    object\n",
      " 11  Road_allignment              991 non-null    object\n",
      " 12  Types_of_Junction            1000 non-null   object\n",
      " 13  Road_surface_type            988 non-null    object\n",
      " 14  Road_surface_conditions      1000 non-null   object\n",
      " 15  Light_conditions             1000 non-null   object\n",
      " 16  Weather_conditions           1000 non-null   object\n",
      " 17  Type_of_collision            995 non-null    object\n",
      " 18  Number_of_vehicles_involved  1000 non-null   int64 \n",
      " 19  Number_of_casualties         1000 non-null   int64 \n",
      " 20  Vehicle_movement             1000 non-null   object\n",
      " 21  Casualty_class               1000 non-null   object\n",
      " 22  Sex_of_casualty              1000 non-null   object\n",
      " 23  Age_band_of_casualty         1000 non-null   object\n",
      " 24  Casualty_severity            1000 non-null   object\n",
      " 25  Pedestrian_movement          1000 non-null   object\n",
      " 26  Cause_of_accident            1000 non-null   object\n",
      " 27  Accident_severity            1000 non-null   object\n",
      "dtypes: int64(2), object(26)\n",
      "memory usage: 218.9+ KB\n"
     ]
    }
   ],
   "source": [
    "df.info()"
   ]
  },
  {
   "cell_type": "markdown",
   "id": "0bfa6bd1-1219-4d8b-87d6-5f1401287798",
   "metadata": {},
   "source": [
    "<div style= \"border: 1px solid RGB(0,150,250);\" >\n",
    "<h3 style=\"margin: auto; padding: 20px; color: RGB(0,150,250); \">1.2 - Analyse Statistique</h3>\n",
    "</div>"
   ]
  },
  {
   "cell_type": "code",
   "execution_count": 28,
   "id": "904273ba-b914-4a26-8630-2282224cbe32",
   "metadata": {},
   "outputs": [
    {
     "data": {
      "text/html": [
       "<div>\n",
       "<style scoped>\n",
       "    .dataframe tbody tr th:only-of-type {\n",
       "        vertical-align: middle;\n",
       "    }\n",
       "\n",
       "    .dataframe tbody tr th {\n",
       "        vertical-align: top;\n",
       "    }\n",
       "\n",
       "    .dataframe thead th {\n",
       "        text-align: right;\n",
       "    }\n",
       "</style>\n",
       "<table border=\"1\" class=\"dataframe\">\n",
       "  <thead>\n",
       "    <tr style=\"text-align: right;\">\n",
       "      <th></th>\n",
       "      <th>count</th>\n",
       "      <th>mean</th>\n",
       "      <th>std</th>\n",
       "      <th>min</th>\n",
       "      <th>25%</th>\n",
       "      <th>50%</th>\n",
       "      <th>75%</th>\n",
       "      <th>max</th>\n",
       "    </tr>\n",
       "  </thead>\n",
       "  <tbody>\n",
       "    <tr>\n",
       "      <th>Number_of_vehicles_involved</th>\n",
       "      <td>1000.0</td>\n",
       "      <td>2.079</td>\n",
       "      <td>0.742503</td>\n",
       "      <td>1.0</td>\n",
       "      <td>2.0</td>\n",
       "      <td>2.0</td>\n",
       "      <td>2.0</td>\n",
       "      <td>6.0</td>\n",
       "    </tr>\n",
       "    <tr>\n",
       "      <th>Number_of_casualties</th>\n",
       "      <td>1000.0</td>\n",
       "      <td>1.703</td>\n",
       "      <td>1.082572</td>\n",
       "      <td>1.0</td>\n",
       "      <td>1.0</td>\n",
       "      <td>1.0</td>\n",
       "      <td>2.0</td>\n",
       "      <td>6.0</td>\n",
       "    </tr>\n",
       "  </tbody>\n",
       "</table>\n",
       "</div>"
      ],
      "text/plain": [
       "                              count   mean       std  min  25%  50%  75%  max\n",
       "Number_of_vehicles_involved  1000.0  2.079  0.742503  1.0  2.0  2.0  2.0  6.0\n",
       "Number_of_casualties         1000.0  1.703  1.082572  1.0  1.0  1.0  2.0  6.0"
      ]
     },
     "execution_count": 28,
     "metadata": {},
     "output_type": "execute_result"
    }
   ],
   "source": [
    "df.describe().T"
   ]
  },
  {
   "cell_type": "markdown",
   "id": "cf3ffc6f-184e-4e41-9844-35d09228b275",
   "metadata": {},
   "source": [
    "<div style=\"background-color: RGB(0,150,250);\" >\n",
    "<h2 style=\"margin: auto; padding: 20px; color:#fff; \">Comprehensions et Etudes des donnees</h2>\n",
    "</div>"
   ]
  },
  {
   "cell_type": "code",
   "execution_count": 30,
   "id": "585afccd-1a60-4f03-a791-442040dd21bf",
   "metadata": {},
   "outputs": [],
   "source": [
    "# import des libraries\n",
    "from pyspark.sql import SparkSession\n",
    "from pyspark.sql.functions import col, avg, count, max, min, sum, format_number, desc, when\n",
    "\n",
    "# Création de la session Spark\n",
    "spark = SparkSession.builder.appName(\"Memoire\").getOrCreate()"
   ]
  },
  {
   "cell_type": "code",
   "execution_count": 31,
   "id": "838164b7-990a-4ea0-889a-b181fc11e2e6",
   "metadata": {},
   "outputs": [
    {
     "ename": "SyntaxError",
     "evalue": "invalid syntax (3609869165.py, line 3)",
     "output_type": "error",
     "traceback": [
      "\u001b[1;36m  Cell \u001b[1;32mIn[31], line 3\u001b[1;36m\u001b[0m\n\u001b[1;33m    Number_of_vehicles_involved\t   Nombre_de_vehicules_impliques\u001b[0m\n\u001b[1;37m                               \t   ^\u001b[0m\n\u001b[1;31mSyntaxError\u001b[0m\u001b[1;31m:\u001b[0m invalid syntax\n"
     ]
    }
   ],
   "source": [
    "# Traduction en francais\n",
    "\n",
    "Number_of_vehicles_involved\t   Nombre_de_vehicules_impliques\n",
    "Number_of_casualties\t       Nombre_de_victimes\n",
    "Time\t                       Heure\n",
    "Day_of_week\t                   Jour_de_la_semaine\n",
    "Age_band_of_driver\t           Tranche_d_age_du_conducteur\n",
    "Sex_of_driver\t               Sexe_du_conducteur\n",
    "Educational_level\t           Niveau_d_etudes\n",
    "Vehicle_driver_relation\t       Relation_conducteur_vehicule\n",
    "Driving_experience\t           Experience_de_conduite\n",
    "Type_of_vehicle\t               Type_de_vehicule\n",
    "Owner_of_vehicle\t           Proprietaire_du_vehicule\n",
    "Area_accident_occured\t       Lieu_de_l_accident\n",
    "Lanes_or_Medians\t           Voies_ou_Medianes\n",
    "Road_allignment\t               Alignement_de_la_route\n",
    "Types_of_Junction\t           Types_d_Intersection\n",
    "Road_surface_type\t           Type_de_surface_de_la_route\n",
    "Road_surface_conditions\t       Etat_de_la_surface_de_la_route\n",
    "Light_conditions\t           Conditions_de_luminosite\n",
    "Weather_conditions\t           Conditions_meteo\n",
    "Type_of_collision\t           Type_de_collision\n",
    "Vehicle_movement\t           Mouvement_du_vehicule\n",
    "Casualty_class\t               Classe_de_victime\n",
    "Sex_of_casualty\t               Sexe_de_la_victime\n",
    "Age_band_of_casualty\t       Tranche_d_age_de_la_victime\n",
    "Casualty_severity\t           Gravite_de_la_blessure\n",
    "Pedestrian_movement\t           Mouvement_du_pieton\n",
    "Cause_of_accident\t           Cause_de_l_accident\n",
    "Accident_severity\t           Gravite_de_l_accident"
   ]
  },
  {
   "cell_type": "code",
   "execution_count": 54,
   "id": "35578258-2a23-4544-baba-5f7898bf9f12",
   "metadata": {},
   "outputs": [
    {
     "name": "stdout",
     "output_type": "stream",
     "text": [
      "Les causes principaux d'accidents : \n",
      "\n"
     ]
    },
    {
     "data": {
      "text/plain": [
       "Cause_of_accident\n",
       "No distancing                 186\n",
       "Changing lane to the right    155\n",
       "Driving carelessly            117\n",
       "Changing lane to the left     114\n",
       "No priority to vehicle         97\n",
       "Name: count, dtype: int64"
      ]
     },
     "execution_count": 54,
     "metadata": {},
     "output_type": "execute_result"
    }
   ],
   "source": [
    "print(\"Les causes principaux d'accidents : \\n\" )\n",
    "causes_princ = df['Cause_of_accident'].value_counts().head(5)\n",
    "causes_princ"
   ]
  },
  {
   "cell_type": "code",
   "execution_count": 78,
   "id": "7069d943-c17e-4cdb-8150-5369bd7c5672",
   "metadata": {},
   "outputs": [
    {
     "name": "stdout",
     "output_type": "stream",
     "text": [
      "Nombre d'accidents par gravité : \n",
      "\n",
      "Accident_severity\n",
      "Fatal injury       20\n",
      "Serious Injury    181\n",
      "Slight Injury     799\n",
      "dtype: int64\n"
     ]
    }
   ],
   "source": [
    "gravite = df.groupby(\"Accident_severity\").size()\n",
    "\n",
    "# Afficher les résultats\n",
    "print(\"Nombre d'accidents par gravité : \\n\")\n",
    "print(gravite)"
   ]
  },
  {
   "cell_type": "code",
   "execution_count": 72,
   "id": "cc155cd7-25f1-4ebd-8e99-24a57efa82d7",
   "metadata": {},
   "outputs": [
    {
     "name": "stdout",
     "output_type": "stream",
     "text": [
      "Nombre d'accidents par jour de la semaine : \n",
      "\n",
      "  Day_of_week  Nombre_d_accidents\n",
      "0      Friday                 187\n",
      "1      Monday                 134\n",
      "2    Saturday                 129\n",
      "3      Sunday                 136\n",
      "4    Thursday                 138\n",
      "5     Tuesday                 133\n",
      "6   Wednesday                 143\n"
     ]
    }
   ],
   "source": [
    "# Compter le nombre d'accidents par jour de la semaine\n",
    "accidents_par_jour = df.groupby(\"Day_of_week\").size().reset_index(name='Nombre_d_accidents')\n",
    "\n",
    "# Afficher les résultats\n",
    "print(\"Nombre d'accidents par jour de la semaine : \\n\")\n",
    "print(accidents_par_jour)"
   ]
  },
  {
   "cell_type": "code",
   "execution_count": 74,
   "id": "15770bd2-4e15-4175-af57-3a478a18623f",
   "metadata": {},
   "outputs": [
    {
     "name": "stdout",
     "output_type": "stream",
     "text": [
      "Nombre d'accidents par condition météo :\n",
      "  Weather_conditions  Nombre_d_accidents\n",
      "0             Cloudy                  19\n",
      "1        Fog or mist                   2\n",
      "2             Normal                 769\n",
      "3              Other                  22\n",
      "4            Raining                 141\n",
      "5  Raining and Windy                   6\n",
      "6               Snow                  14\n",
      "7            Unknown                   8\n",
      "8              Windy                  19\n"
     ]
    }
   ],
   "source": [
    "# Compter le nombre d'accidents par condition météo\n",
    "accidents_par_meteo = df.groupby(\"Weather_conditions\").size().reset_index(name='Nombre_d_accidents')\n",
    "\n",
    "print(\"Nombre d'accidents par condition météo :\")\n",
    "print(accidents_par_meteo)"
   ]
  },
  {
   "cell_type": "code",
   "execution_count": 76,
   "id": "b9e77c37-208e-4e02-bce1-ef9fbc88b9be",
   "metadata": {},
   "outputs": [
    {
     "name": "stdout",
     "output_type": "stream",
     "text": [
      "Les 5 lieux d'accident les plus fréquents : \n",
      "\n",
      "Area_accident_occured\n",
      "Other                320\n",
      "Office areas         279\n",
      "Residential areas    167\n",
      " Church areas         84\n",
      "School areas          38\n",
      "Name: count, dtype: int64\n"
     ]
    }
   ],
   "source": [
    "# Compter le nombre d'accidents par lieu et prendre les 5 premiers\n",
    "lieux_plus_frequents = df['Area_accident_occured'].value_counts().head(5)\n",
    "\n",
    "print(\"Les 5 lieux d'accident les plus fréquents : \\n\")\n",
    "print(lieux_plus_frequents)\n"
   ]
  },
  {
   "cell_type": "code",
   "execution_count": 104,
   "id": "09e7a5f8-d390-46df-8d61-f49d82868993",
   "metadata": {},
   "outputs": [
    {
     "name": "stdout",
     "output_type": "stream",
     "text": [
      " L'age des conducteurs impliqués dans un accident : \n",
      "\n",
      "Age_band_of_driver\n",
      "18-30       380\n",
      "31-50       339\n",
      "Over 51     162\n",
      "Under 18     67\n",
      "Unknown      52\n",
      "Name: count, dtype: int64\n"
     ]
    }
   ],
   "source": [
    "# ages des conducteurs impliquer dans des accidents\n",
    "ages = df['Age_band_of_driver'].value_counts().head(5)\n",
    "\n",
    "print(\" L'age des conducteurs impliqués dans un accident : \\n\")\n",
    "print(ages)"
   ]
  },
  {
   "cell_type": "code",
   "execution_count": 108,
   "id": "72977879-0491-4089-9a36-b1a3c435171d",
   "metadata": {},
   "outputs": [
    {
     "name": "stdout",
     "output_type": "stream",
     "text": [
      "Répartition des victimes par tranche d'âge et gravité des blessures : \n",
      "\n",
      "Casualty_severity     1   2    3   na\n",
      "Age_band_of_casualty                 \n",
      "18-30                 0  35  201    0\n",
      "31-50                 0  17  165    0\n",
      "Over 51               4  17   74    0\n",
      "Under 18              1  21  115    0\n",
      "na                    0   0    0  350\n"
     ]
    }
   ],
   "source": [
    "table_victimes = pd.crosstab(df['Age_band_of_casualty'], df['Casualty_severity'])\n",
    "\n",
    "print(\"Répartition des victimes par tranche d'âge et gravité des blessures : \\n\")\n",
    "print(table_victimes)"
   ]
  },
  {
   "cell_type": "markdown",
   "id": "77172b99-5ff7-4ee4-83c2-4ee3b89649c7",
   "metadata": {},
   "source": [
    "- ici le 1 designe les accidents fatale (morts), le 2 les accidents avec de serieux consequences et le 3 les accidents pas tres grave"
   ]
  },
  {
   "cell_type": "markdown",
   "id": "7ade60bc-6bd4-46f1-9f12-30e91b6eaa95",
   "metadata": {},
   "source": [
    "<div style=\"background-color: orange;\" >\n",
    "<h2 style=\"margin: auto; padding: 20px; color:#fff; text-align: center \">Visualisations</h2>\n",
    "</div>"
   ]
  },
  {
   "cell_type": "markdown",
   "id": "5a8363ed-5efc-4a34-95e0-508b0b0163ba",
   "metadata": {},
   "source": [
    "### carte de densite des areas avec le plus d'accidents"
   ]
  },
  {
   "cell_type": "code",
   "execution_count": 117,
   "id": "09b4e56e-dfe8-41de-bd36-0f84b62fb708",
   "metadata": {},
   "outputs": [
    {
     "name": "stderr",
     "output_type": "stream",
     "text": [
      "C:\\Users\\pc\\AppData\\Local\\Temp\\ipykernel_14372\\4292893884.py:2: FutureWarning: \n",
      "\n",
      "Passing `palette` without assigning `hue` is deprecated and will be removed in v0.14.0. Assign the `y` variable to `hue` and set `legend=False` for the same effect.\n",
      "\n",
      "  sns.countplot(data=df, y='Area_accident_occured', order=df['Area_accident_occured'].value_counts().head(10).index, palette='magma')\n"
     ]
    },
    {
     "data": {
      "image/png": "[encoded data removed]",
      "text/plain": [
       "<Figure size 1000x600 with 1 Axes>"
      ]
     },
     "metadata": {},
     "output_type": "display_data"
    }
   ],
   "source": [
    "\n",
    "plt.figure(figsize=(10,6))\n",
    "sns.countplot(data=df, y='Area_accident_occured', order=df['Area_accident_occured'].value_counts().head(10).index, palette='magma')\n",
    "plt.title(\"Zones avec le plus grand nombre d'accidents\")\n",
    "plt.xlabel(\"Nombre d'accidents\")\n",
    "plt.ylabel(\"Zone\")\n",
    "plt.tight_layout()\n",
    "plt.show()"
   ]
  },
  {
   "cell_type": "markdown",
   "id": "0ed43c9e-575c-471a-9f81-6e8933d4a04d",
   "metadata": {},
   "source": [
    "### Nuages de point age vs experience du conducteur"
   ]
  },
  {
   "cell_type": "code",
   "execution_count": 123,
   "id": "a3eb2785-7825-49d7-8b99-0e8bd3c30d05",
   "metadata": {},
   "outputs": [
    {
     "data": {
      "image/png": "[encoded data removed]",
      "text/plain": [
       "<Figure size 1000x600 with 1 Axes>"
      ]
     },
     "metadata": {},
     "output_type": "display_data"
    }
   ],
   "source": [
    "plt.figure(figsize=(10,6))\n",
    "sns.scatterplot(data=df, x='Age_band_of_driver', y='Driving_experience', hue='Accident_severity', palette='cool')\n",
    "plt.title(\"Âge vs Expérience des conducteurs selon la gravité des accidents\")\n",
    "plt.xlabel(\"Âge\")\n",
    "plt.ylabel(\"Expérience\")\n",
    "plt.tight_layout()\n",
    "plt.show()"
   ]
  },
  {
   "cell_type": "markdown",
   "id": "11a6980c-b7e6-44d1-a28e-16d2db5ed623",
   "metadata": {},
   "source": [
    "### Diagramme en barre des accidents par heure de la journee "
   ]
  },
  {
   "cell_type": "code",
   "execution_count": 128,
   "id": "45678285-75db-43cd-81c6-b371e3377bfb",
   "metadata": {},
   "outputs": [
    {
     "name": "stderr",
     "output_type": "stream",
     "text": [
      "C:\\Users\\pc\\AppData\\Local\\Temp\\ipykernel_14372\\1504327957.py:1: UserWarning: Could not infer format, so each element will be parsed individually, falling back to `dateutil`. To ensure parsing is consistent and as-expected, please specify a format.\n",
      "  df['Hour'] = pd.to_datetime(df['Time'], errors='coerce').dt.hour\n"
     ]
    },
    {
     "data": {
      "image/png": "[encoded data removed]",
      "text/plain": [
       "<Figure size 1000x500 with 1 Axes>"
      ]
     },
     "metadata": {},
     "output_type": "display_data"
    }
   ],
   "source": [
    "df['Hour'] = pd.to_datetime(df['Time'], errors='coerce').dt.hour\n",
    "\n",
    "plt.figure(figsize=(10,5))\n",
    "sns.histplot(df['Hour'].dropna(), bins=24, kde=False, color='salmon')\n",
    "plt.title(\"Accidents par heure de la journée\")\n",
    "plt.xlabel(\"Heure\")\n",
    "plt.ylabel(\"Nombre d'accidents\")\n",
    "plt.tight_layout()\n",
    "plt.show()"
   ]
  },
  {
   "cell_type": "markdown",
   "id": "c824c442-0347-41ae-b087-dc7079760802",
   "metadata": {},
   "source": [
    "### Nombres d'accidents causer par les types de voiture"
   ]
  },
  {
   "cell_type": "code",
   "execution_count": 133,
   "id": "f46219bf-44cb-417a-9141-ef9bb3cd4349",
   "metadata": {},
   "outputs": [
    {
     "name": "stderr",
     "output_type": "stream",
     "text": [
      "C:\\Users\\pc\\AppData\\Local\\Temp\\ipykernel_14372\\3490641314.py:2: FutureWarning: \n",
      "\n",
      "Passing `palette` without assigning `hue` is deprecated and will be removed in v0.14.0. Assign the `y` variable to `hue` and set `legend=False` for the same effect.\n",
      "\n",
      "  sns.countplot(data=df, y='Type_of_vehicle', order=df['Type_of_vehicle'].value_counts().head(10).index, palette='cool')\n"
     ]
    },
    {
     "data": {
      "image/png": "[encoded data removed]",
      "text/plain": [
       "<Figure size 1000x600 with 1 Axes>"
      ]
     },
     "metadata": {},
     "output_type": "display_data"
    }
   ],
   "source": [
    "plt.figure(figsize=(10,6))\n",
    "sns.countplot(data=df, y='Type_of_vehicle', order=df['Type_of_vehicle'].value_counts().head(10).index, palette='cool')\n",
    "plt.title(\"Types de véhicules les plus impliqués\")\n",
    "plt.xlabel(\"Nombre d'accidents\")\n",
    "plt.ylabel(\"Type de véhicule\")\n",
    "plt.tight_layout()\n",
    "plt.show()"
   ]
  },
  {
   "cell_type": "markdown",
   "id": "9b1eb51c-5780-4830-a0ff-244e4df68d12",
   "metadata": {},
   "source": [
    "### Boxplot"
   ]
  },
  {
   "cell_type": "code",
   "execution_count": 148,
   "id": "f002fe13-66f4-4dfe-a616-818599c4c8b5",
   "metadata": {},
   "outputs": [
    {
     "data": {
      "image/png": "[encoded data removed]",
      "text/plain": [
       "<Figure size 1200x600 with 1 Axes>"
      ]
     },
     "metadata": {},
     "output_type": "display_data"
    }
   ],
   "source": [
    "plt.figure(figsize=(12,6))\n",
    "sns.boxplot(data=df.select_dtypes(include='number'))\n",
    "plt.title('Boxplots des variables numériques')\n",
    "plt.show()"
   ]
  },
  {
   "cell_type": "code",
   "execution_count": null,
   "id": "52a38867-ac8a-46ee-b9d1-55e5e72ac8f8",
   "metadata": {},
   "outputs": [],
   "source": []
  }
 ],
 "metadata": {
  "kernelspec": {
   "display_name": "Python [conda env:base] *",
   "language": "python",
   "name": "conda-base-py"
  },
  "language_info": {
   "codemirror_mode": {
    "name": "ipython",
    "version": 3
   },
   "file_extension": ".py",
   "mimetype": "text/x-python",
   "name": "python",
   "nbconvert_exporter": "python",
   "pygments_lexer": "ipython3",
   "version": "3.12.7"
  }
 },
 "nbformat": 4,
 "nbformat_minor": 5
}
